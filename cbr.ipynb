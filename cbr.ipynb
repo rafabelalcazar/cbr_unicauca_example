{
 "cells": [
  {
   "cell_type": "code",
   "execution_count": 6,
   "metadata": {},
   "outputs": [
    {
     "name": "stdout",
     "output_type": "stream",
     "text": [
      "Collecting pymongo\n",
      "  Downloading pymongo-4.7.3-cp39-cp39-win_amd64.whl.metadata (22 kB)\n",
      "Collecting dnspython<3.0.0,>=1.16.0 (from pymongo)\n",
      "  Downloading dnspython-2.6.1-py3-none-any.whl.metadata (5.8 kB)\n",
      "Downloading pymongo-4.7.3-cp39-cp39-win_amd64.whl (483 kB)\n",
      "   ---------------------------------------- 0.0/483.7 kB ? eta -:--:--\n",
      "   --- ----------------------------------- 41.0/483.7 kB 991.0 kB/s eta 0:00:01\n",
      "   ----- --------------------------------- 71.7/483.7 kB 660.6 kB/s eta 0:00:01\n",
      "   --------- ---------------------------- 122.9/483.7 kB 804.6 kB/s eta 0:00:01\n",
      "   -------------- ----------------------- 184.3/483.7 kB 857.5 kB/s eta 0:00:01\n",
      "   ----------------- -------------------- 225.3/483.7 kB 919.0 kB/s eta 0:00:01\n",
      "   -------------------- ----------------- 256.0/483.7 kB 983.0 kB/s eta 0:00:01\n",
      "   ------------------------ ------------- 317.4/483.7 kB 936.6 kB/s eta 0:00:01\n",
      "   ---------------------------------- ----- 419.8/483.7 kB 1.1 MB/s eta 0:00:01\n",
      "   ---------------------------------------- 483.7/483.7 kB 1.1 MB/s eta 0:00:00\n",
      "Downloading dnspython-2.6.1-py3-none-any.whl (307 kB)\n",
      "   ---------------------------------------- 0.0/307.7 kB ? eta -:--:--\n",
      "   -------------------------- ------------- 204.8/307.7 kB 4.1 MB/s eta 0:00:01\n",
      "   ---------------------------------------- 307.7/307.7 kB 3.8 MB/s eta 0:00:00\n",
      "Installing collected packages: dnspython, pymongo\n",
      "Successfully installed dnspython-2.6.1 pymongo-4.7.3\n",
      "Note: you may need to restart the kernel to use updated packages.\n"
     ]
    }
   ],
   "source": [
    "%pip install pymongo"
   ]
  },
  {
   "cell_type": "code",
   "execution_count": 8,
   "metadata": {},
   "outputs": [
    {
     "name": "stdout",
     "output_type": "stream",
     "text": [
      "Note: you may need to restart the kernel to use updated packages.\n"
     ]
    }
   ],
   "source": [
    "%pip list >> requirements.txt"
   ]
  },
  {
   "cell_type": "code",
   "execution_count": 7,
   "metadata": {},
   "outputs": [],
   "source": [
    "from typing import List, Dict, Any\n",
    "from sklearn.metrics.pairwise import euclidean_distances\n",
    "import numpy as np\n",
    "from pymongo import MongoClient"
   ]
  },
  {
   "cell_type": "code",
   "execution_count": null,
   "metadata": {},
   "outputs": [],
   "source": [
    "class Case:\n",
    "    def __init__(self, problem: Dict[str, Any], solution: Any):\n",
    "        self.problem = problem\n",
    "        self.solution = solution"
   ]
  },
  {
   "cell_type": "code",
   "execution_count": null,
   "metadata": {},
   "outputs": [],
   "source": [
    "class CaseBase:\n",
    "    # def __init__(self):\n",
    "    #     self.cases: List[Case] = []\n",
    "    def __init__(self, db_name: str, collection_name: str, uri: str = \"mongodb://localhost:27017/\"):\n",
    "        self.client = MongoClient(uri)\n",
    "        self.db = self.client[db_name]\n",
    "        self.collection = self.db[collection_name]\n",
    "\n",
    "    def add_case(self, case: Case):\n",
    "        # self.cases.append(case)\n",
    "        self.collection.insert_one({\"problem\": case.problem, \"solution\": case.solution})\n",
    "        \n",
    "    def get_all_cases(self) -> List[Case]:\n",
    "        cases = []\n",
    "        for document in self.collection.find():\n",
    "            case = Case(problem=document[\"problem\"], solution=document[\"solution\"])\n",
    "            cases.append(case)\n",
    "        return cases\n",
    "\n",
    "    def find_most_similar_case(self, new_problem: Dict[str, Any]) -> Case:\n",
    "        distances = []\n",
    "        for case in self.cases:\n",
    "            distances.append(self._calculate_distance(new_problem, case.problem))\n",
    "        min_index = np.argmin(distances)\n",
    "        return self.cases[min_index]\n",
    "\n",
    "    def _calculate_distance(self, problem1: Dict[str, Any], problem2: Dict[str, Any]) -> float:\n",
    "        vec1 = np.array(list(problem1.values())).reshape(1, -1)\n",
    "        vec2 = np.array(list(problem2.values())).reshape(1, -1)\n",
    "        return euclidean_distances(vec1, vec2)[0][0]\n"
   ]
  },
  {
   "cell_type": "code",
   "execution_count": null,
   "metadata": {},
   "outputs": [],
   "source": [
    "# Example usage\n",
    "if __name__ == \"__main__\":\n",
    "    # Define some cases\n",
    "    case1 = Case(problem={\"feature1\": 1.0, \"feature2\": 2.0}, solution=\"Solution 1\")\n",
    "    case2 = Case(problem={\"feature1\": 2.0, \"feature2\": 3.0}, solution=\"Solution 2\")\n",
    "\n",
    "    # Create a case base and add cases to it\n",
    "    case_base = CaseBase()\n",
    "    case_base.add_case(case1)\n",
    "    case_base.add_case(case2)\n",
    "\n",
    "    # Define a new problem\n",
    "    new_problem = {\"feature1\": 1.5, \"feature2\": 2.5}\n",
    "\n",
    "    # Retrieve the most similar case\n",
    "    similar_case = case_base.find_most_similar_case(new_problem)\n",
    "\n",
    "    # Print the retrieved case's solution\n",
    "    print(f\"The most similar case solution is: {similar_case.solution}\")"
   ]
  }
 ],
 "metadata": {
  "kernelspec": {
   "display_name": ".venv",
   "language": "python",
   "name": "python3"
  },
  "language_info": {
   "codemirror_mode": {
    "name": "ipython",
    "version": 3
   },
   "file_extension": ".py",
   "mimetype": "text/x-python",
   "name": "python",
   "nbconvert_exporter": "python",
   "pygments_lexer": "ipython3",
   "version": "3.9.2"
  }
 },
 "nbformat": 4,
 "nbformat_minor": 2
}
